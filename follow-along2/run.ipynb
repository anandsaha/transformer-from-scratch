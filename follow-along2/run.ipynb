{
 "cells": [
  {
   "cell_type": "code",
   "execution_count": 1,
   "id": "b92c1b2f-c122-4686-9997-87451aa60cc9",
   "metadata": {},
   "outputs": [],
   "source": [
    "import torch\n",
    "import math\n",
    "from torchviz import make_dot\n",
    "import model\n",
    "import train\n",
    "import config\n",
    "import warnings"
   ]
  },
  {
   "cell_type": "code",
   "execution_count": 2,
   "id": "88274909-b416-46b4-aeab-937b27b9a5da",
   "metadata": {},
   "outputs": [],
   "source": [
    "warnings.filterwarnings(\"ignore\")\n",
    "config = config.get_config()"
   ]
  },
  {
   "cell_type": "code",
   "execution_count": 3,
   "id": "0863f40f-caa8-4946-94a9-b021ec13ec0d",
   "metadata": {},
   "outputs": [
    {
     "data": {
      "text/plain": [
       "{'batch_size': 18,\n",
       " 'num_epochs': 20,\n",
       " 'lr': 0.0001,\n",
       " 'seq_len': 350,\n",
       " 'd_model': 512,\n",
       " 'lang_src': 'en',\n",
       " 'lang_tgt': 'it',\n",
       " 'model_folder': 'weights',\n",
       " 'model_basename': 'tmodel_',\n",
       " 'preload': None,\n",
       " 'tokenizer_file': 'tokenizer-{0}.json',\n",
       " 'experiment_name': 'runs/tmodel'}"
      ]
     },
     "execution_count": 3,
     "metadata": {},
     "output_type": "execute_result"
    }
   ],
   "source": [
    "config"
   ]
  },
  {
   "cell_type": "code",
   "execution_count": 4,
   "id": "1bdb7cb5-369f-4bbe-a438-53fbfac5f3dd",
   "metadata": {},
   "outputs": [
    {
     "name": "stdout",
     "output_type": "stream",
     "text": [
      "Using device: cuda\n",
      "Maximum length of source sentences: 309\n",
      "Maximum length of target sentences: 274\n"
     ]
    },
    {
     "name": "stderr",
     "output_type": "stream",
     "text": [
      "Training epoch 00: 100%|███████████████████████████████████████████████████████████████████████████████████████████████████████████████████████████████████████████████████████████████████████████████████████████████████████| 1617/1617 [17:12<00:00,  1.57it/s, loss=5.745]\n",
      "stty: 'standard input': Inappropriate ioctl for device\n"
     ]
    },
    {
     "name": "stdout",
     "output_type": "stream",
     "text": [
      "--------------------------------------------------------------------------------\n",
      "    SOURCE: But as if intentionally every time she softened, she again began to speak of the thing that irritated her.\n",
      "    TARGET: Ma poi, come apposta, ogni volta che si raddolciva, riprendeva a parlare di ciò che la irritava.\n",
      " PREDICTED: Ma che si mise a lui , ma non si mise a lui .\n",
      "--------------------------------------------------------------------------------\n",
      "    SOURCE: \"It will be wise so to do,\" was her answer: \"this neighbourhood is as quiet as any I know, and I never heard of the hall being attempted by robbers since it was a house; though there are hundreds of pounds' worth of plate in the plate-closet, as is well known.\n",
      "    TARGET: — E avrete ragione, — rispose. — I dintorni sono tranquillissimi e non ho mai sentito parlar di ladri; ma si sa che qui ci sono somme enormi in argenteria e per una casa così grande, la servitù è scarsa, perché il padrone ci sta poco e non ha moglie.\n",
      " PREDICTED: — Sì , — disse , — disse , — disse , — disse il signor Rochester , — disse il signor Rochester , — disse , — disse , — che non è stato di nuovo .\n",
      "--------------------------------------------------------------------------------\n"
     ]
    },
    {
     "name": "stderr",
     "output_type": "stream",
     "text": [
      "Training epoch 01: 100%|█████████████████████████████████████████| 1617/1617 [17:18<00:00,  1.56it/s, loss=5.700]\n",
      "stty: 'standard input': Inappropriate ioctl for device\n"
     ]
    },
    {
     "name": "stdout",
     "output_type": "stream",
     "text": [
      "--------------------------------------------------------------------------------\n",
      "    SOURCE: He tried to read but could not awaken in himself the lively interest he had felt for the Eugubine Tables.\n",
      "    TARGET: Cominciò a leggere, ma non seppe ritrovare l’interesse, prima sempre vivo, per le Tavole eugubine.\n",
      " PREDICTED: Il suo sguardo era stata una donna che non era mai stata una volta .\n",
      "--------------------------------------------------------------------------------\n",
      "    SOURCE: 'It was overdriven yesterday, Constantine Dmitrich,' he said. 'Why, it was driven hard for ten versts!'\n",
      "    TARGET: — Ieri l’avete fiaccato, Konstantin Dmitric — diceva. — E come l’avete spinto per dieci verste fuori di strada!\n",
      " PREDICTED: — È un ’ altra cosa — disse , — ma è stato di nuovo .\n",
      "--------------------------------------------------------------------------------\n"
     ]
    },
    {
     "name": "stderr",
     "output_type": "stream",
     "text": [
      "Training epoch 02: 100%|███████████████████████████████████████████| 1617/1617 [17:18<00:00,  1.56it/s, loss=4.947]\n",
      "stty: 'standard input': Inappropriate ioctl for device\n"
     ]
    },
    {
     "name": "stdout",
     "output_type": "stream",
     "text": [
      "--------------------------------------------------------------------------------\n",
      "    SOURCE: Kitty kept looking toward the door, gathering courage not to blush when Constantine Levin should enter.\n",
      "    TARGET: Kitty guardava la porta, raccogliendo le proprie forze per non arrossire all’entrata di Konstantin Levin.\n",
      " PREDICTED: Levin si alzò e , Levin non poteva non andare a Levin .\n",
      "--------------------------------------------------------------------------------\n",
      "    SOURCE: 'Because I am about to take proceedings to divorce your sister, my wife.\n",
      "    TARGET: — Perché do inizio a una causa di divorzio contro vostra sorella, contro mia moglie.\n",
      " PREDICTED: — E perché ho detto che la mia vita è la vostra moglie .\n",
      "--------------------------------------------------------------------------------\n"
     ]
    },
    {
     "name": "stderr",
     "output_type": "stream",
     "text": [
      "Training epoch 03: 100%|█| 1617/1617 [17:17<00:00,  1.56it/s, loss=4.9\n",
      "stty: 'standard input': Inappropriate ioctl for device\n"
     ]
    },
    {
     "name": "stdout",
     "output_type": "stream",
     "text": [
      "--------------------------------------------------------------------------------\n",
      "    SOURCE: Levin understood, but not fully, and wished to put some further questions when suddenly every one began talking at once, and moving noisily toward the Large Hall. 'What is it? What? Who? An authorization? To whom? What? Rejected! No authorization! Flerov is not admitted! What if he is being prosecuted? In that way they can exclude anybody! It's mean! The law!' Levin heard shouted from various sides, and he went toward the Large Hall with all the others, who were hastening on apparently afraid of missing something or other. Hemmed in by a crowd of noblemen, he approached the Provincial table, at which the Provincial Marshal, Sviyazhsky, and the other leaders were having a heated dispute.\n",
      "    TARGET: Levin capì, ma non perfettamente, e voleva ancora fare delle domande, quando a un tratto tutti presero a parlare, a rumoreggiare e a muoversi verso la sala grande. — Che c’è? cosa? chi? — La procura? a chi? perché? — La ricusano? — Non la procura. — Non ammettono Flerov. — Ma che cosa, se è sotto giudizio? — Così non ammetteranno nessuno. Ciò è vile. — La legge! — sentiva Levin da varie parti e, insieme con gli altri che si affrettavano chi sa dove, e temevano di perdere qualcosa, si diresse nella sala grande e, stretto dai nobili, si accostò al tavolo del governatorato, presso al quale discutevano con calore il maresciallo del governatorato, Svijazskij e altri rappresentanti.\n",
      " PREDICTED: Levin , ma Levin non si poteva , e si sentiva di nuovo un tratto , con un tratto , con un tratto , con un tratto , un tratto , che , si era messo in fretta a sedere accanto al tavolo , e , come se non si fosse mai stata mai stata mai stata mai stata messa in mano , come se stesso , con la principessa Tverskaja , e con un tratto , come se non si fosse stata la mano , come se non si fosse stata mai stata mai stata mai ?\n",
      "--------------------------------------------------------------------------------\n",
      "    SOURCE: 'Well, and has Papa done what he wanted?'\n",
      "    TARGET: — Be’, e papà ha fatto per lui quello che occorreva?\n",
      " PREDICTED: — E allora ? — chiese Kitty .\n",
      "--------------------------------------------------------------------------------\n"
     ]
    },
    {
     "name": "stderr",
     "output_type": "stream",
     "text": [
      "Training epoch 04: 100%|█| 1617/1617 [17:18<00:00,  1.56it/s, loss=4.4\n",
      "stty: 'standard input': Inappropriate ioctl for device\n"
     ]
    },
    {
     "name": "stdout",
     "output_type": "stream",
     "text": [
      "--------------------------------------------------------------------------------\n",
      "    SOURCE: They ought to have come a little sooner to have heard his lecture on dress, for they were splendidly attired in velvet, silk, and furs.\n",
      "    TARGET: Sarebbero dovute giungere un po' prima per sentir la predica, perché erano sfarzosamente vestite di velluto, di seta e di pelliccie.\n",
      " PREDICTED: Si può essere stati seduti in un momento in cui si era avvicinato alla stazione , dove erano i cavalli , e i cavalli si erano .\n",
      "--------------------------------------------------------------------------------\n",
      "    SOURCE: George and I were for camping out.\n",
      "    TARGET: Giorgio e io ci dichiarammo per l’accampamento all’aperto.\n",
      " PREDICTED: Giorgio e io mi .\n",
      "--------------------------------------------------------------------------------\n"
     ]
    },
    {
     "name": "stderr",
     "output_type": "stream",
     "text": [
      "Training epoch 05: 100%|█| 1617/1617 [17:17<00:00,  1.56it/s, loss=4.4\n",
      "stty: 'standard input': Inappropriate ioctl for device\n"
     ]
    },
    {
     "name": "stdout",
     "output_type": "stream",
     "text": [
      "--------------------------------------------------------------------------------\n",
      "    SOURCE: \"And how far is it?\"\n",
      "    TARGET: — Va lontana? — A cinquanta miglia.\n",
      " PREDICTED: — E come è vero ?\n",
      "--------------------------------------------------------------------------------\n",
      "    SOURCE: --\"Did Mr. Rochester wake nobody? Did no one hear him move?\"\n",
      "    TARGET: — Ma il signor Rochester non ha destato nessuno, nessuno l'ha sentito muoversi?\n",
      " PREDICTED: Jane Eyre , non ha mai veduto ? — mi domandò .\n",
      "--------------------------------------------------------------------------------\n"
     ]
    },
    {
     "name": "stderr",
     "output_type": "stream",
     "text": [
      "Training epoch 06: 100%|█| 1617/1617 [17:11<00:00,  1.57it/s, loss=4.3\n",
      "stty: 'standard input': Inappropriate ioctl for device\n"
     ]
    },
    {
     "name": "stdout",
     "output_type": "stream",
     "text": [
      "--------------------------------------------------------------------------------\n",
      "    SOURCE: 'It is awful, awful!' he muttered.\n",
      "    TARGET: — È terribile, è terribile — disse.\n",
      " PREDICTED: — È terribile ! — egli disse .\n",
      "--------------------------------------------------------------------------------\n",
      "    SOURCE: She might as well have said to the fire, \"don't burn!\" but how could she divine the morbid suffering to which I was a prey?\n",
      "    TARGET: Tanto valeva dire al fuoco di non bruciare; ma come avrebbe fatto ella a indovinare le sofferenze alle quali ero in preda?\n",
      " PREDICTED: Se fosse stata fatta , non ci sarebbe più difficile , — disse , — ma non poteva la lingua che forse fosse la signorina Scatcherd ?\n",
      "--------------------------------------------------------------------------------\n"
     ]
    },
    {
     "name": "stderr",
     "output_type": "stream",
     "text": [
      "Training epoch 07: 100%|█| 1617/1617 [17:18<00:00,  1.56it/s, loss=4.2\n",
      "stty: 'standard input': Inappropriate ioctl for device\n"
     ]
    },
    {
     "name": "stdout",
     "output_type": "stream",
     "text": [
      "--------------------------------------------------------------------------------\n",
      "    SOURCE: He anticipated my proposals by telling me that both he and the ship, if recovered, should be wholly directed and commanded by me in everything; and if the ship was not recovered, he would live and die with me in what part of the world soever I would send him; and the two other men said the same.\n",
      "    TARGET: Non aspetto ch’io gli spiegassi la natura di questi patti per rispondermi che egli e il suo vascello, se veniva ricuperato, si sarebbero posti interamente ed in ogni cosa sotto i miei comandi e il mio governo; e che se il bastimento non si fosse potuto riavere, egli era pronto a vivere con me e a morire per me in qualunque parte del mondo avessi voluto mandarlo.\n",
      " PREDICTED: Egli mi diede a guardarmi con tanta violenza , e che se ne andasse , e mi diede un ’ altra volta , mi avrebbe giovato ed egli stesso in cui mi avrebbe la libertà di cui mi avrebbe portati via dalla parte del mondo ; e se non avesse avuto la parte del mondo di Dio , e se non avesse avuto la libertà di que ’ selvaggi .\n",
      "--------------------------------------------------------------------------------\n",
      "    SOURCE: I was filled with horror at the very naming of the white bearded man; and going to the tree, I saw plainly by my glass a white man, who lay upon the beach of the sea with his hands and his feet tied with flags, or things like rushes, and that he was an European, and had clothes on.\n",
      "    TARGET: Quale orrore m’investì all’udir nominato un uomo europeo! Andato io stesso dietro all’albero per indagare col mio cannocchiale ciò che succedea, vidi veramente un uomo di carnagione bianca che giacea su la sponda del mare, legato i piedi e le mani con funi di canne palustri o alcun che di simile, un uomo veramente europeo come indicavano i suoi stessi panni.\n",
      " PREDICTED: Ero giunta a quella sorpresa di sotto la barba , e dalla barba arruffata da un albero , che mi trovai in un piccolo ramo d ’ acqua , che trovai in terra cotta , che , in oltre le mani , un piccolo fiaschetto di polvere , su la spiaggia del mare che avea fatto dianzi , era rimasto ucciso e , se ne fosse stato un ’ altra volta , o piuttosto .\n",
      "--------------------------------------------------------------------------------\n"
     ]
    },
    {
     "name": "stderr",
     "output_type": "stream",
     "text": [
      "Training epoch 08: 100%|█| 1617/1617 [17:17<00:00,  1.56it/s, loss=3.4\n",
      "stty: 'standard input': Inappropriate ioctl for device\n"
     ]
    },
    {
     "name": "stdout",
     "output_type": "stream",
     "text": [
      "--------------------------------------------------------------------------------\n",
      "    SOURCE: We arranged to start on the following Saturday from Kingston.\n",
      "    TARGET: Stabilimmo di partire il sabato seguente da Kingston.\n",
      " PREDICTED: a Kingston .\n",
      "--------------------------------------------------------------------------------\n",
      "    SOURCE: They listened always very attentively to my discourses on these heads, but especially to that part which related to the buying of negroes, which was a trade at that time, not only not far entered into, but, as far as it was, had been carried on by assientos, or permission of the kings of Spain and Portugal, and engrossed in the public stock: so that few negroes were bought, and these excessively dear.\n",
      "    TARGET: Questi miei amici stavano attentissimi ai miei discorsi su tutti gl’indicati punti, ma principalmente alla parte che riguardava la compra dei Negri, commercio che a que’ giorni non solamente non era molto innoltrato, ma comunque fosse, veniva fatto da chi soltanto era munito di assientos o patenti dei re della Spagna e del Portogallo, e vietato a tutti gli altri, di modo che pochi Negri erano comprati, e questi ad un prezzo stragrande.\n",
      " PREDICTED: Essi si sempre con le mie forze , ma , che per quanto si possa immaginare , che quel giorno si , che , per dir vero , non solo non era più tempo di che , secondo le nostre , non erano più , come se fossero stati messi a , come se non fosse stato possibile , il , che , secondo le nostre passioni , si fossero nel governare alla terra , e le mie zattere , , , , non per o non , come se non si fosse stato possibile , il paese , per , come si fosse retaggio della loro , l ’ ultimo de ’ quali cose , e che , l ’ miei amici , l ’ anima , l ’ umanità .\n",
      "--------------------------------------------------------------------------------\n"
     ]
    },
    {
     "name": "stderr",
     "output_type": "stream",
     "text": [
      "Training epoch 09: 100%|█| 1617/1617 [17:18<00:00,  1.56it/s, loss=3.1\n",
      "stty: 'standard input': Inappropriate ioctl for device\n"
     ]
    },
    {
     "name": "stdout",
     "output_type": "stream",
     "text": [
      "--------------------------------------------------------------------------------\n",
      "    SOURCE: Since his marriage so many new and serious aspects of life had been revealed to him, which owing to his superficial acquaintance with them had formerly seemed unimportant, that he anticipated and looked for a serious meaning in this election business also.\n",
      "    TARGET: Da quando s’era sposato, gli si erano rivelati tanti lati nuovi e profondi della vita che prima, per la leggerezza con cui li trattava, gli sembravano insignificanti; così anche nell’affare delle elezioni egli supponeva e ricercava un senso profondo.\n",
      " PREDICTED: Il matrimonio s ’ era fatto così sciocco e quello di sé c ’ era stato da lui ; per quanto era stato compiuto , per lui , per quanto era stato penoso al suo ufficio , aveva provato un senso per lui per quanto era necessario .\n",
      "--------------------------------------------------------------------------------\n",
      "    SOURCE: As for the pickaxe, I made use of the iron crows, which were proper enough, though heavy; but the next thing was a shovel or spade; this was so absolutely necessary, that, indeed, I could do nothing effectually without it; but what kind of one to make I knew not.\n",
      "    TARGET: Quanto alla zappa, mi valsi de’ rampiconi di ferro che trovai sufficienti al mio uopo, benchè di soverchio pesanti; ma l’altro stromento, la vanga, era di si inevitabile necessità, che da vero io non vedeva la possibilità di venire a termine di nulla senza di essa, nè sapeva a quale degli stromenti che io possedeva potessi fame fare le veci.\n",
      " PREDICTED: Come mi studiavo l ' aiuto di me , mi trovai di essere sgridata ; ma quella che era la cosa più piccola , che il tempo era ; il resto era un uomo onesto e che non poteva essere altro ; ma ciò che mi riusciva a , nè sapeva altro che avrei potuto un tal genere di cui non so dir vero .\n",
      "--------------------------------------------------------------------------------\n"
     ]
    },
    {
     "name": "stderr",
     "output_type": "stream",
     "text": [
      "Training epoch 10: 100%|█| 1617/1617 [17:19<00:00,  1.56it/s, loss=3.2\n",
      "stty: 'standard input': Inappropriate ioctl for device\n"
     ]
    },
    {
     "name": "stdout",
     "output_type": "stream",
     "text": [
      "--------------------------------------------------------------------------------\n",
      "    SOURCE: They are hampered and oppressed by the consciousness that this is impossible for them.'\n",
      "    TARGET: Ella è impacciata, oppressa dalla consapevolezza dell’impossibilità di esserlo.\n",
      " PREDICTED: Sono disgraziata e su di me è indifferente che non si può essere diversamente .\n",
      "--------------------------------------------------------------------------------\n",
      "    SOURCE: Immediately they fell to work with him; and though they had no knife, yet, with a sharpened piece of wood, they took off his skin as readily, and much more readily, than we could have done with a knife.\n",
      "    TARGET: Tosto si misero all’opera di apparecchiarlo; e benchè non avessero coltello, con un pezzo di legno ben affilato ne tolsero la pelle con la stessa prestezza, anzi maggiore, che non avremmo fatto noi co’ nostri stromenti da taglio.\n",
      " PREDICTED: a cercare di nuovo i suoi compagni , e sebbene non fossero stati uccisi dall ’ uno , e con l ’ orso di Venerdì , si diedero a spiegare a Venerdì , e ad averne più bisogno di una corda che ci avrebbe potuto con un coltello .\n",
      "--------------------------------------------------------------------------------\n"
     ]
    },
    {
     "name": "stderr",
     "output_type": "stream",
     "text": [
      "Training epoch 11: 100%|█| 1617/1617 [16:59<00:00,  1.59it/s, loss=3.0\n",
      "stty: 'standard input': Inappropriate ioctl for device\n"
     ]
    },
    {
     "name": "stdout",
     "output_type": "stream",
     "text": [
      "--------------------------------------------------------------------------------\n",
      "    SOURCE: It was three o'clock; the busiest time in the streets.\n",
      "    TARGET: Erano le tre ed era l’ora più animata per le strade.\n",
      " PREDICTED: Erano tre , la maggior parte delle più vicine .\n",
      "--------------------------------------------------------------------------------\n",
      "    SOURCE: What do you see amiss in me?\"\n",
      "    TARGET: Sto bene, benissimo.\n",
      " PREDICTED: Che cosa vi aspettate allora ?\n",
      "--------------------------------------------------------------------------------\n"
     ]
    },
    {
     "name": "stderr",
     "output_type": "stream",
     "text": [
      "Training epoch 12: 100%|█████████████████████████████████████| 1617/1617 [16:33<00:00,  1.63it/s, loss=2.964]\n",
      "stty: 'standard input': Inappropriate ioctl for device\n"
     ]
    },
    {
     "name": "stdout",
     "output_type": "stream",
     "text": [
      "--------------------------------------------------------------------------------\n",
      "    SOURCE: I knew nothing.\n",
      "    TARGET: Non sapevo nulla, io.\n",
      " PREDICTED: Io non ho nulla .\n",
      "--------------------------------------------------------------------------------\n",
      "    SOURCE: They say it's coquetting...\n",
      "    TARGET: Dicono: civetteria.\n",
      " PREDICTED: Dicono che sia ...\n",
      "--------------------------------------------------------------------------------\n"
     ]
    },
    {
     "name": "stderr",
     "output_type": "stream",
     "text": [
      "Training epoch 13: 100%|█████████████████████████████████████| 1617/1617 [16:33<00:00,  1.63it/s, loss=2.819]\n",
      "stty: 'standard input': Inappropriate ioctl for device\n"
     ]
    },
    {
     "name": "stdout",
     "output_type": "stream",
     "text": [
      "--------------------------------------------------------------------------------\n",
      "    SOURCE: I shall remember how you thrust me back--roughly and violently thrust me back--into the red-room, and locked me up there, to my dying day; though I was in agony; though I cried out, while suffocating with distress,\n",
      "    TARGET: Mi rammenterò sempre con quanta durezza mi avete respinta nella camera rossa, quale sguardo mi avete gettato quando ero in agonia. Eppure, oppressa dal dolore, vi avevo gridato:\n",
      " PREDICTED: \" Mi sempre la mia , la sera e la in un cantuccio accanto alla fuoco , alla quale mi di ferro , mi misi a piangere , benché qualche giorno dopo , benché qualche tempo dopo di !\n",
      "--------------------------------------------------------------------------------\n",
      "    SOURCE: \"It will be wise so to do,\" was her answer: \"this neighbourhood is as quiet as any I know, and I never heard of the hall being attempted by robbers since it was a house; though there are hundreds of pounds' worth of plate in the plate-closet, as is well known.\n",
      "    TARGET: — E avrete ragione, — rispose. — I dintorni sono tranquillissimi e non ho mai sentito parlar di ladri; ma si sa che qui ci sono somme enormi in argenteria e per una casa così grande, la servitù è scarsa, perché il padrone ci sta poco e non ha moglie.\n",
      " PREDICTED: — È così crudele con voi , — rispose la signora . — Non so che né una casa né la villa né il vestibolo della villa ; ma è un compito così poco disposta verso di voi , perché infatti , come quella bella casa .\n",
      "--------------------------------------------------------------------------------\n"
     ]
    },
    {
     "name": "stderr",
     "output_type": "stream",
     "text": [
      "Training epoch 14: 100%|█████████████████████████████████████| 1617/1617 [16:33<00:00,  1.63it/s, loss=2.862]\n",
      "stty: 'standard input': Inappropriate ioctl for device\n"
     ]
    },
    {
     "name": "stdout",
     "output_type": "stream",
     "text": [
      "--------------------------------------------------------------------------------\n",
      "    SOURCE: When first he came to live at my expense, I never thought I should be able to get him to stop long.\n",
      "    TARGET: Dal primo giorno che cominciò a vivere a mie spese, pensai che non sarei stato in grado di tenerlo per molto tempo.\n",
      " PREDICTED: Quando poi fu arrivato a vivere in libertà , e non vorrei condurvi via da via da tempo a fermarsi per molto tempo .\n",
      "--------------------------------------------------------------------------------\n",
      "    SOURCE: I don't know whether they were entirely of your doing; probably a master aided you?\"\n",
      "    TARGET: Non so se sia vero, oppure se un maestro vi abbia aiutata.\n",
      " PREDICTED: Non so se si considerrà se tutto il vostro stato è stato ferito . Se vi ?\n",
      "--------------------------------------------------------------------------------\n"
     ]
    },
    {
     "name": "stderr",
     "output_type": "stream",
     "text": [
      "Training epoch 15: 100%|█████████████████████████████████████| 1617/1617 [16:33<00:00,  1.63it/s, loss=2.525]\n",
      "stty: 'standard input': Inappropriate ioctl for device\n"
     ]
    },
    {
     "name": "stdout",
     "output_type": "stream",
     "text": [
      "--------------------------------------------------------------------------------\n",
      "    SOURCE: Can you tell when there is a good fire?\"\n",
      "    TARGET: Vedete la fiamma?\n",
      " PREDICTED: Potete dirmi quando siete una candela ?\n",
      "--------------------------------------------------------------------------------\n",
      "    SOURCE: You are to share my solitude. Do you understand?\"\n",
      "    TARGET: Voi dividerete la mia solitudine, capite?\n",
      " PREDICTED: Tu vedi che non puoi continuare la mia solitudine ?\n",
      "--------------------------------------------------------------------------------\n"
     ]
    },
    {
     "name": "stderr",
     "output_type": "stream",
     "text": [
      "Training epoch 16: 100%|█| 1617/1617 [16:33<00:00,  1.63it/s, loss=2.5\n",
      "stty: 'standard input': Inappropriate ioctl for device\n"
     ]
    },
    {
     "name": "stdout",
     "output_type": "stream",
     "text": [
      "--------------------------------------------------------------------------------\n",
      "    SOURCE: I knew not what was the particular occasion of it, but as I was reading in the Bible, and taken up with very serious thoughts about my present condition, I was surprised with the noise of a gun, as I thought, fired at sea.\n",
      "    TARGET: Stava leggendo la mia Bibbia, nè mi ricordo a qual punto di essa mi sorgessero gravissimi pensieri su la presente mia condizione, quando mi sorprese un fragore di cannone sparato, come non ne dubitai, da gente che stava sul mare.\n",
      " PREDICTED: Sapevo che cosa fosse la più facile , ma che mi trovai la Bibbia ed alla Bibbia , ma quella lettura mi fece cambiar idea ; perchè , dopo il mio stato , fui gettato giù nel corso di mare .\n",
      "--------------------------------------------------------------------------------\n",
      "    SOURCE: Agathocles, the Sicilian, became King of Syracuse not only from a private but from a low and abject position.\n",
      "    TARGET: Agatocle siciliano, non solo di privata fortuna, ma di infima et abietta, divenne re di Siracusa.\n",
      " PREDICTED: Tutti , che si considerassi la prima ruina dello Imperio romano , non solo , ma le tentazioni della fame e del consiglio di un tempo .\n",
      "--------------------------------------------------------------------------------\n"
     ]
    },
    {
     "name": "stderr",
     "output_type": "stream",
     "text": [
      "Training epoch 17:  53%|▌| 862/1617 [08:49<07:40,  1.64it/s, loss=2.42IOPub message rate exceeded.\n",
      "The Jupyter server will temporarily stop sending output\n",
      "to the client in order to avoid crashing it.\n",
      "To change this limit, set the config variable\n",
      "`--ServerApp.iopub_msg_rate_limit`.\n",
      "\n",
      "Current values:\n",
      "ServerApp.iopub_msg_rate_limit=1000.0 (msgs/sec)\n",
      "ServerApp.rate_limit_window=3.0 (secs)\n",
      "\n",
      "Training epoch 18: 100%|█| 1617/1617 [16:33<00:00,  1.63it/s, loss=2.3\n",
      "stty: 'standard input': Inappropriate ioctl for device\n"
     ]
    },
    {
     "name": "stdout",
     "output_type": "stream",
     "text": [
      "--------------------------------------------------------------------------------\n",
      "    SOURCE: CHAPTER VII\n",
      "    TARGET: VII.\n",
      " PREDICTED: VII\n",
      "--------------------------------------------------------------------------------\n",
      "    SOURCE: When the chorus came we even made a desperate effort to be merry.\n",
      "    TARGET: Quando giunse l’istante del coro, facemmo uno sforzo disperato per essere allegri.\n",
      " PREDICTED: Quando il coro ci parve un po ’ di riposo come una volta gli si presentò chiara dei suoi .\n",
      "--------------------------------------------------------------------------------\n"
     ]
    },
    {
     "name": "stderr",
     "output_type": "stream",
     "text": [
      "Training epoch 19: 100%|████████| 1617/1617 [16:33<00:00,  1.63it/s, loss=2.109]\n",
      "stty: 'standard input': Inappropriate ioctl for device\n"
     ]
    },
    {
     "name": "stdout",
     "output_type": "stream",
     "text": [
      "--------------------------------------------------------------------------------\n",
      "    SOURCE: At that most painful time of lonely despair she came to his house and entered his study unannounced.\n",
      "    TARGET: Proprio in quel momento penoso di disperata solitudine, ella venne da lui e, senza farsi annunciare, entrò nel suo studio.\n",
      " PREDICTED: A quella situazione , in cui era tormentoso anche il solo scopo della casa sua , entrò senza incontrare il suo cavallo .\n",
      "--------------------------------------------------------------------------------\n",
      "    SOURCE: The bear soon came to the tree, and we followed at a distance: the first thing he did he stopped at the gun, smelt at it, but let it lie, and up he scrambles into the tree, climbing like a cat, though so monstrous heavy.\n",
      "    TARGET: L’orso non tarda a raggiugnere l’albero; noi procedevamo tenendoci a qualche distanza verso il teatro dell’azione. L’animale per prima cosa si fermò a piè dell’albero, fiutò il moschetto, poi lasciatolo lì, s’aggrappo all’albero, arrampicandosi ad usanza di un gallo, benchè fosse sì sterminatamente grave.\n",
      " PREDICTED: Il germogliare improvviso cominciò ad uscire , e noi vedemmo cadere alla distanza , ma Stepan Arkad ’ ic fece un cenno al fucile , la testa in giù , e con un grido acuto , si fece guardare ancor su la collina . Ma come un grosso uccello ucciso come a , si fece tanti rischi delle .\n",
      "--------------------------------------------------------------------------------\n"
     ]
    }
   ],
   "source": [
    "train.train_model(config)"
   ]
  },
  {
   "cell_type": "code",
   "execution_count": 5,
   "id": "e687b8a7-6572-4853-a4ef-73d9cc536379",
   "metadata": {},
   "outputs": [
    {
     "data": {
      "text/plain": [
       "'2.5.0+cu118'"
      ]
     },
     "execution_count": 5,
     "metadata": {},
     "output_type": "execute_result"
    }
   ],
   "source": [
    "torch.__version__"
   ]
  }
 ],
 "metadata": {
  "kernelspec": {
   "display_name": "Python 3 (ipykernel)",
   "language": "python",
   "name": "python3"
  },
  "language_info": {
   "codemirror_mode": {
    "name": "ipython",
    "version": 3
   },
   "file_extension": ".py",
   "mimetype": "text/x-python",
   "name": "python",
   "nbconvert_exporter": "python",
   "pygments_lexer": "ipython3",
   "version": "3.10.18"
  }
 },
 "nbformat": 4,
 "nbformat_minor": 5
}
